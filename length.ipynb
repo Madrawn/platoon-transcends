{
 "cells": [
  {
   "cell_type": "code",
   "execution_count": 5,
   "metadata": {},
   "outputs": [],
   "source": [
    "import os\n",
    "os.environ[\"API_KEY\"] = \"*\"\n"
   ]
  },
  {
   "cell_type": "code",
   "execution_count": 6,
   "metadata": {},
   "outputs": [],
   "source": [
    "from dataclasses import dataclass\n",
    "from datetime import datetime\n",
    "import isodate\n",
    "import googleapiclient.discovery\n",
    "import googleapiclient.errors\n",
    "import matplotlib.pyplot as plt\n",
    "import numpy as np\n"
   ]
  },
  {
   "cell_type": "code",
   "execution_count": 7,
   "metadata": {},
   "outputs": [],
   "source": [
    "\n",
    "# -*- coding: utf-8 -*-\n",
    "\n",
    "# Sample Python code for youtube.playlistItems.list\n",
    "# See instructions for running these code samples locally:\n",
    "# https://developers.google.com/explorer-help/code-samples#python\n",
    "api_service_name = \"youtube\"\n",
    "api_version = \"v3\"\n",
    "\n",
    "youtube = googleapiclient.discovery.build(\n",
    "    api_service_name, api_version, developerKey=os.environ[\"API_KEY\"])\n",
    "\n",
    "\n",
    "scopes = [\"https://www.googleapis.com/auth/youtube.readonly\"]\n",
    "\n",
    "# Video(**{'videoId': 'HwKjtJ1unlQ', 'videoPublishedAt': '2022-04-01T14:00:16Z'})\n"
   ]
  },
  {
   "cell_type": "code",
   "execution_count": 8,
   "metadata": {},
   "outputs": [],
   "source": [
    "@dataclass\n",
    "class Video:\n",
    "    videoId: str\n",
    "    videoPublishedAt: str\n",
    "    _video: dict = None  # type: ignore\n",
    "\n",
    "    @property\n",
    "    def published_date(self) -> datetime:\n",
    "        return datetime.strptime(\n",
    "            self.videoPublishedAt,\n",
    "            \"%Y-%m-%dT%H:%M:%SZ\")\n",
    "\n",
    "    @property\n",
    "    def video(self):\n",
    "        if (self._video is None):\n",
    "            request = youtube.videos().list(\n",
    "                part=\"snippet,contentDetails,statistics\",\n",
    "                id=self.videoId\n",
    "            )\n",
    "            self._video = request.execute()['items'][0]\n",
    "        return self._video\n",
    "\n",
    "    @property\n",
    "    def duration(self):\n",
    "        return isodate.parse_duration(\n",
    "            self.video['contentDetails']['duration']).total_seconds()\n",
    "\n",
    "\n",
    "@dataclass\n",
    "class PlayList:\n",
    "    list_id: str\n",
    "\n",
    "    @property\n",
    "    def videos(self):\n",
    "        response = self.fetch_videos()\n",
    "        has_more = True\n",
    "        while (has_more):\n",
    "            for element in response[\"items\"]:\n",
    "                try:\n",
    "                    yield Video(**element['contentDetails'])\n",
    "                except TypeError:\n",
    "                    pass\n",
    "            if (\"nextPageToken\" in response):\n",
    "                response = self.fetch_videos(token=response[\"nextPageToken\"])\n",
    "            else:\n",
    "                has_more = False\n",
    "\n",
    "    def fetch_videos(self, token=None):\n",
    "        request = youtube.playlistItems().list(\n",
    "            part=\"contentDetails\",\n",
    "            maxResults=50,\n",
    "            playlistId=\"PLjJNtVylHOh_eq3L9z5NQbdbNoHIXnDhm\",\n",
    "            pageToken=token\n",
    "        )\n",
    "        response = request.execute()\n",
    "        return response\n",
    "    \n",
    "data_points = sorted([\n",
    "    (video.published_date, video.duration)\n",
    "    for video in PlayList(\"PLjJNtVylHOh_eq3L9z5NQbdbNoHIXnDhm\").videos],key=lambda x : x[0])\n"
   ]
  },
  {
   "cell_type": "code",
   "execution_count": 9,
   "metadata": {},
   "outputs": [
    {
     "data": {
      "image/png": "[encoded data removed]",
      "text/plain": [
       "<Figure size 640x480 with 1 Axes>"
      ]
     },
     "metadata": {},
     "output_type": "display_data"
    }
   ],
   "source": [
    "\n",
    "# Separate the list into x and y values\n",
    "x_t: list[float] = [item[0].timestamp() for item in (data_points)]\n",
    "x: list[datetime] = [item[0] for item in data_points]\n",
    "y: list[float] = [item[1] for item in data_points]\n",
    "\n",
    "# # Fit a first order polynomial\n",
    "# z1 = np.polyfit(x_t, y, 1)\n",
    "# # Fit a second order polynomial\n",
    "# z2 = np.polyfit(x_t, y, 2)\n",
    "# # Fit a third order polynomial\n",
    "# z3 = np.polyfit(x_t, y, 3)\n",
    "z5 = np.polyfit(x_t, y, 5)\n",
    "\n",
    "prediction = [datetime(x,y,1) for x in range(2024,2025) for y in range(1,10)] + [datetime(2024,9,12)]\n",
    "x_d = x + prediction\n",
    "x_t+=[date.timestamp() for date in prediction]\n",
    "# # Evaluate the polynomial at x values\n",
    "# y1 = np.polyval(z1, x_t)\n",
    "# # Evaluate the polynomial at x values\n",
    "# y2 = np.polyval(z2, x_t)\n",
    "# # Evaluate the polynomial at x values\n",
    "# y3 = np.polyval(z3, x_t)\n",
    "y5 = np.polyval(z5, x_t)\n",
    "\n",
    "# Plot the data and the fitted line\n",
    "plt.plot(x, y, 'o', label='data')\n",
    "# plt.plot(x_d, y1, '-', label='first order fit')\n",
    "# # Plot the data and the fitted parabola\n",
    "# plt.plot(x_d, y2, '-', label='second order fit')\n",
    "# # Plot the data and the fitted cubic\n",
    "# plt.plot(x_d, y3, '-', label='third order fit')\n",
    "plt.plot(x_d, y5, '-', label='fifth order fit')\n",
    "\n",
    "plt.axhline(y = (24*60*60), color = 'r', linestyle = '--', label=\"1 Day\")\n",
    "\n",
    "plt.xticks(rotation=45, ha='right')\n",
    "plt.legend()\n",
    "plt.show()"
   ]
  },
  {
   "cell_type": "code",
   "execution_count": 10,
   "metadata": {},
   "outputs": [
    {
     "name": "stderr",
     "output_type": "stream",
     "text": [
      "E:\\Users\\yasok\\AppData\\Local\\Temp\\ipykernel_17132\\2443546016.py:7: ComplexWarning: Casting complex values to real discards the imaginary part\n",
      "  day_of_rapture = [datetime.fromtimestamp(x) for x in [int(r) for r in roots if np.isreal(r)]][0]\n"
     ]
    },
    {
     "data": {
      "text/plain": [
       "'Tue Sep  3 02:50:23 2024'"
      ]
     },
     "execution_count": 10,
     "metadata": {},
     "output_type": "execute_result"
    }
   ],
   "source": [
    "coeffs = z5\n",
    "# Subtract a day from the constant term\n",
    "coeffs[-1] -= 24*60*60\n",
    "\n",
    "# Find the roots of the new polynomial\n",
    "roots = np.roots(coeffs)\n",
    "day_of_rapture = [datetime.fromtimestamp(x) for x in [int(r) for r in roots if np.isreal(r)]][0]\n",
    "day_of_rapture.strftime(\"%c\")"
   ]
  },
  {
   "cell_type": "markdown",
   "metadata": {},
   "source": [
    "# On the day of our lord **Tue Sep  3 02:50:23 2024** we will reach the the Platoon Singularity, where for a brief moment in time we will be able to enjoy 24/7 platoon content, after which the universe will most likely fold in onto itself to accommodate Platoon talking for more than 24 hours in 24 hours."
   ]
  }
 ],
 "metadata": {
  "kernelspec": {
   "display_name": "Python 3",
   "language": "python",
   "name": "python3"
  },
  "language_info": {
   "codemirror_mode": {
    "name": "ipython",
    "version": 3
   },
   "file_extension": ".py",
   "mimetype": "text/x-python",
   "name": "python",
   "nbconvert_exporter": "python",
   "pygments_lexer": "ipython3",
   "version": "3.10.11"
  }
 },
 "nbformat": 4,
 "nbformat_minor": 2
}
